{
 "cells": [
  {
   "cell_type": "code",
   "execution_count": 12,
   "metadata": {},
   "outputs": [],
   "source": [
    "import pandas as pd\n",
    "import os\n"
   ]
  },
  {
   "cell_type": "code",
   "execution_count": 23,
   "metadata": {},
   "outputs": [],
   "source": [
    "query = '/home/laura/ANALYSIS/VARIANT_CALLING/ABSCESSUS_ATCC/Variants/ALM13614072-1042/snps.all.ivar.tsv'\n",
    "query_sample = query.split('/')[-2]\n",
    "\n",
    "variant_folder = '/home/laura/ANALYSIS/VARIANT_CALLING/ABSCESSUS_ATCC/Variants/'\n",
    "initial_sample = '10183324ABS'\n",
    "initial = os.path.join(variant_folder + '/' + initial_sample, 'snps.all.ivar.tsv')\n",
    "\n",
    "output_directory = '/home/laura/IMPORTANTE/Papers/Abscessus/Intrapaciente/1042/Aislado2023/'\n",
    "file_comparison = query_sample + '_' + initial_sample + '.xlsx'\n",
    "output_file = os.path.join(output_directory, file_comparison)\n",
    "\n",
    "coverage_directory = '/home/laura/ANALYSIS/VARIANT_CALLING/ABSCESSUS_ATCC/Stats/Coverage/'\n",
    "coverage_file = os.path.join(coverage_directory, initial_sample + '.cov')\n"
   ]
  },
  {
   "cell_type": "code",
   "execution_count": 14,
   "metadata": {},
   "outputs": [],
   "source": [
    "query_df = pd.read_csv(query, sep='\\t')\n",
    "\n",
    "initial_df = pd.read_csv(initial, sep='\\t')\n"
   ]
  },
  {
   "cell_type": "code",
   "execution_count": 15,
   "metadata": {},
   "outputs": [],
   "source": [
    "query_df_filt = query_df[(query_df.ALT_DP >= 20) & (query_df.ALT_FREQ < 0.8) & (\n",
    "    query_df.ALT_FREQ >= 0.2) & (query_df.TYPE == 'snp')].reset_index()\n",
    "\n",
    "query_df_filt = query_df_filt[['REGION', 'POS', 'REF',\n",
    "                               'ALT', 'TOTAL_DP', 'REF_FREQ', 'ALT_FREQ', 'OLDVAR']]\n"
   ]
  },
  {
   "cell_type": "code",
   "execution_count": 16,
   "metadata": {},
   "outputs": [],
   "source": [
    "initial_df = initial_df[['POS', 'ALT', 'TOTAL_DP', 'ALT_FREQ']]\n",
    "\n",
    "initial_df = initial_df.rename(columns={'ALT': 'ALT_' + initial_sample,\n",
    "                                        'TOTAL_DP': 'DP_' + initial_sample, 'ALT_FREQ': 'ALT_FREQ_' + initial_sample})\n"
   ]
  },
  {
   "cell_type": "code",
   "execution_count": 17,
   "metadata": {},
   "outputs": [],
   "source": [
    "comparison = query_df_filt.merge(initial_df, how='left', on='POS')\n"
   ]
  },
  {
   "cell_type": "code",
   "execution_count": 18,
   "metadata": {},
   "outputs": [],
   "source": [
    "# comparison.to_excel(output_file, index='None')\n"
   ]
  },
  {
   "cell_type": "code",
   "execution_count": 19,
   "metadata": {},
   "outputs": [],
   "source": [
    "# Buscar los valores faltantes en la columna 'DP_' + initial_sample\n",
    "missing_values = comparison[('DP_' + initial_sample)].isna()\n"
   ]
  },
  {
   "cell_type": "code",
   "execution_count": 20,
   "metadata": {},
   "outputs": [],
   "source": [
    "# Filtrar las filas con valores faltantes\n",
    "missing_rows = comparison[missing_values]\n"
   ]
  },
  {
   "cell_type": "code",
   "execution_count": 22,
   "metadata": {},
   "outputs": [],
   "source": [
    "def fill_missing_values(comparison, missing_rows, coverage_file, initial_sample, output_file):\n",
    "    # Leer el archivo de cobertura como un DataFrame\n",
    "    coverage_df = pd.read_csv(coverage_file, sep='\\t', header=None, names=['Genoma', 'POS', 'DP'])\n",
    "    \n",
    "    # Crear un diccionario para almacenar los valores de profundidad por posición\n",
    "    coverage_dict = dict(zip(coverage_df['POS'], coverage_df['DP']))\n",
    "    \n",
    "    # Iterar sobre las filas faltantes y extraer los valores correspondientes del 'coverage_dict'\n",
    "    for index, row in missing_rows.iterrows():\n",
    "        pos = row['POS']\n",
    "        if pd.notnull(pos) and pos in coverage_dict:\n",
    "            coverage_value = coverage_dict[pos]\n",
    "            comparison.at[index, ('DP_' + initial_sample)] = coverage_value\n",
    "    \n",
    "    # Exportar el DataFrame a Excel\n",
    "    comparison.to_excel(output_file, index=False)\n"
   ]
  },
  {
   "cell_type": "code",
   "execution_count": null,
   "metadata": {},
   "outputs": [],
   "source": [
    "# Llamar a la función y pasar los DataFrames y los argumentos adicionales\n",
    "fill_missing_values(comparison, missing_rows, coverage_file, initial_sample, output_file)"
   ]
  }
 ],
 "metadata": {
  "kernelspec": {
   "display_name": "python",
   "language": "python",
   "name": "python3"
  },
  "language_info": {
   "codemirror_mode": {
    "name": "ipython",
    "version": 3
   },
   "file_extension": ".py",
   "mimetype": "text/x-python",
   "name": "python",
   "nbconvert_exporter": "python",
   "pygments_lexer": "ipython3",
   "version": "3.8.15"
  },
  "orig_nbformat": 4
 },
 "nbformat": 4,
 "nbformat_minor": 2
}
