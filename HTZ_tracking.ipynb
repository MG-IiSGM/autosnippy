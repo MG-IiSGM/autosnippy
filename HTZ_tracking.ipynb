{
 "cells": [
  {
   "cell_type": "code",
   "execution_count": 284,
   "metadata": {},
   "outputs": [],
   "source": [
    "import pandas as pd\n",
    "import os"
   ]
  },
  {
   "cell_type": "code",
   "execution_count": 285,
   "metadata": {},
   "outputs": [],
   "source": [
    "variant_folder = '/home/laura/ANALYSIS/VARIANT_CALLING/ABSCESSUS_ATCC/Variants/'\n",
    "\n",
    "query_sample = 'ALM13739611-1042'\n",
    "query = os.path.join(variant_folder + '/' + query_sample, 'snps.all.ivar.tsv')\n",
    "\n",
    "output_directory = '/home/laura/IMPORTANTE/Papers/Abscessus/Intrapaciente/1042/Heterocigotos/End/Genotipo13/'\n",
    "output_file = os.path.join(output_directory, f\"{query_sample}_HTZ_comparison.xlsx\")\n",
    "output_hq_file = os.path.join(output_directory, f\"{query_sample}_HQ_comparison.xlsx\")\n",
    "\n",
    "initial_samples_file = os.path.join(output_directory, 'Aislados')\n",
    "\n",
    "coverage_directory = '/home/laura/ANALYSIS/VARIANT_CALLING/ABSCESSUS_ATCC/Stats/Coverage/'\n"
   ]
  },
  {
   "cell_type": "code",
   "execution_count": 286,
   "metadata": {},
   "outputs": [],
   "source": [
    "query_df = pd.read_csv(query, sep='\\t')\n",
    "\n",
    "query_htz = query_df[(query_df.ALT_DP >= 20) & (query_df.ALT_FREQ < 0.7) & (\n",
    "    query_df.ALT_FREQ >= 0.2) & (query_df.TYPE == 'snp')].reset_index()\n",
    "\n",
    "query_htz = query_htz[['REGION', 'POS', 'REF',\n",
    "                               'ALT', 'TOTAL_DP', 'REF_FREQ', 'ALT_FREQ', 'OLDVAR']]\n",
    "\n",
    "\n",
    "query_hq = query_df[(query_df.TOTAL_DP >= 20) & (query_df.ALT_FREQ >= 0.8) & (query_df.TYPE == 'snp')].reset_index()\n",
    "\n",
    "query_hq = query_hq[['REGION', 'POS', 'REF',\n",
    "                               'ALT', 'TOTAL_DP', 'REF_FREQ', 'ALT_FREQ', 'OLDVAR']]"
   ]
  },
  {
   "cell_type": "code",
   "execution_count": 287,
   "metadata": {},
   "outputs": [],
   "source": [
    "with open(initial_samples_file, 'r') as f:\n",
    "    initial_samples = [line.strip() for line in f]"
   ]
  },
  {
   "cell_type": "code",
   "execution_count": 288,
   "metadata": {},
   "outputs": [],
   "source": [
    "# Inicializar el DataFrame combinado\n",
    "combined_htz_comparison = query_htz.copy()\n",
    "\n",
    "combined_hq_comparison = query_hq.copy()"
   ]
  },
  {
   "cell_type": "code",
   "execution_count": 289,
   "metadata": {},
   "outputs": [],
   "source": [
    "def fill_missing_values(comparison, missing_rows, coverage_file, initial_sample):\n",
    "    # Leer el archivo de cobertura como un DataFrame\n",
    "    coverage_df = pd.read_csv(coverage_file, sep='\\t', header=None, names=['Genoma', 'POS', 'DP'])\n",
    "    \n",
    "    # Crear un diccionario para almacenar los valores de profundidad por posición\n",
    "    coverage_dict = dict(zip(coverage_df['POS'], coverage_df['DP']))\n",
    "    \n",
    "    # Iterar sobre las filas faltantes y extraer los valores correspondientes del 'coverage_dict'\n",
    "    for index, row in missing_rows.iterrows():\n",
    "        pos = row['POS']\n",
    "        if pd.notnull(pos) and pos in coverage_dict:\n",
    "            coverage_value = coverage_dict[pos]\n",
    "            comparison.at[index, ('DP_' + initial_sample)] = coverage_value\n",
    "    \n",
    "    # Exportar el DataFrame a Excel\n",
    "    return comparison"
   ]
  },
  {
   "cell_type": "code",
   "execution_count": 290,
   "metadata": {},
   "outputs": [],
   "source": [
    "# Iterar sobre las muestras iniciales\n",
    "for initial_sample in initial_samples:\n",
    "    initial = os.path.join(variant_folder + '/' + initial_sample, 'snps.all.ivar.tsv')\n",
    "    coverage_file = os.path.join(coverage_directory, initial_sample + '.cov')\n",
    "\n",
    "    initial_df = pd.read_csv(initial, sep='\\t')\n",
    "    initial_df = initial_df[['POS', 'TOTAL_DP', 'ALT_DP', 'ALT_FREQ']] # 'ALT', \n",
    "    initial_df = initial_df.rename(columns={'TOTAL_DP': f'DP_{initial_sample}', 'ALT_DP': f'ALT_DP_{initial_sample}', 'ALT_FREQ': f'ALT_FREQ_{initial_sample}'}) # 'ALT': f'ALT_{initial_sample}',\n",
    "\n",
    "    # Realizar un merge en lugar de una concatenación\n",
    "    combined_htz_comparison = combined_htz_comparison.merge(initial_df, how='left', on='POS')\n",
    "\n",
    "\n",
    "    # Buscar los valores faltantes en la columna 'DP_' + initial_sample\n",
    "    missing_values = combined_htz_comparison[f'DP_{initial_sample}'].isna()\n",
    "\n",
    "        # Filtrar las filas con valores faltantes\n",
    "    missing_rows = combined_htz_comparison[missing_values]\n",
    "\n",
    "    fill_missing_values(combined_htz_comparison, missing_rows, coverage_file, initial_sample)\n",
    "\n",
    "# Exportar el DataFrame combinado a Excel\n",
    "combined_htz_comparison.to_excel(output_file, index=False)"
   ]
  },
  {
   "cell_type": "code",
   "execution_count": 291,
   "metadata": {},
   "outputs": [],
   "source": [
    "# Iterar sobre las muestras iniciales\n",
    "for initial_sample in initial_samples:\n",
    "    initial = os.path.join(variant_folder + '/' + initial_sample, 'snps.all.ivar.tsv')\n",
    "    coverage_file = os.path.join(coverage_directory, initial_sample + '.cov')\n",
    "\n",
    "    initial_df = pd.read_csv(initial, sep='\\t')\n",
    "    initial_df = initial_df[['POS', 'ALT', 'TOTAL_DP', 'ALT_DP', 'ALT_FREQ']]\n",
    "    initial_df = initial_df.rename(columns={'ALT': f'ALT_{initial_sample}',\n",
    "                                            'TOTAL_DP': f'DP_{initial_sample}', 'ALT_DP': f'ALT_DP_{initial_sample}', 'ALT_FREQ': f'ALT_FREQ_{initial_sample}'})\n",
    "\n",
    "    # Realizar un merge en lugar de una concatenación\n",
    "    combined_hq_comparison = combined_hq_comparison.merge(initial_df, how='left', on='POS')\n",
    "\n",
    "\n",
    "    # Buscar los valores faltantes en la columna 'DP_' + initial_sample\n",
    "    missing_values = combined_hq_comparison[f'DP_{initial_sample}'].isna()\n",
    "\n",
    "        # Filtrar las filas con valores faltantes\n",
    "    missing_rows = combined_hq_comparison[missing_values]\n",
    "\n",
    "    fill_missing_values(combined_hq_comparison, missing_rows, coverage_file, initial_sample)\n",
    "\n",
    "# Exportar el DataFrame combinado a Excel\n",
    "combined_hq_comparison.to_excel(output_hq_file, index=False)"
   ]
  }
 ],
 "metadata": {
  "kernelspec": {
   "display_name": "python",
   "language": "python",
   "name": "python3"
  },
  "language_info": {
   "codemirror_mode": {
    "name": "ipython",
    "version": 3
   },
   "file_extension": ".py",
   "mimetype": "text/x-python",
   "name": "python",
   "nbconvert_exporter": "python",
   "pygments_lexer": "ipython3",
   "version": "3.8.15"
  },
  "orig_nbformat": 4
 },
 "nbformat": 4,
 "nbformat_minor": 2
}
